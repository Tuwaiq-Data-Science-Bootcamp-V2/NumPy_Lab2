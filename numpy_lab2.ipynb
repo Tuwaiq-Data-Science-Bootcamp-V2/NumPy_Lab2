{
 "cells": [
  {
   "cell_type": "code",
   "execution_count": 1,
   "id": "f2c3f72b",
   "metadata": {},
   "outputs": [],
   "source": [
    "#Q1: Import numpy library\n",
    "import numpy as np"
   ]
  },
  {
   "cell_type": "code",
   "execution_count": 5,
   "id": "e9803a80",
   "metadata": {},
   "outputs": [
    {
     "data": {
      "text/plain": [
       "array([ 0. ,  2.5,  5. ,  7.5, 10. , 12.5, 15. ])"
      ]
     },
     "execution_count": 5,
     "metadata": {},
     "output_type": "execute_result"
    }
   ],
   "source": [
    "#Q2: Generate a sequence of 15 floats using linspace() function\n",
    "np.linspace(0,15,7)"
   ]
  },
  {
   "cell_type": "code",
   "execution_count": 33,
   "id": "fdc4ded8",
   "metadata": {},
   "outputs": [
    {
     "data": {
      "text/plain": [
       "(2, 2, 3)"
      ]
     },
     "execution_count": 33,
     "metadata": {},
     "output_type": "execute_result"
    }
   ],
   "source": [
    "#Q3: Create a 3-D array in shape (2, 2, 3) containing the four arrays given below\n",
    "\n",
    "x = np.array([[[1.1, 2.2,3.3], [3.3, 4.4,3.3]],[[5.5, 6.6,3.3], [7.7, 8.8,3.3]]])\n",
    "x.shape"
   ]
  },
  {
   "cell_type": "code",
   "execution_count": 34,
   "id": "31b38b4d",
   "metadata": {},
   "outputs": [
    {
     "name": "stdout",
     "output_type": "stream",
     "text": [
      "type =  float64\n",
      "number of dimensions =  3\n",
      "shape =  (2, 2, 3)\n",
      "size =  12\n",
      "<memory at 0x000002AFB786E9A0>\n"
     ]
    }
   ],
   "source": [
    "#Q4: Print the following\n",
    "#Array's type.\n",
    "#Array's elements datatype.\n",
    "#Array's shape.\n",
    "#Array's size.\n",
    "#Array's dimention.\n",
    "print('type = ', x.dtype)\n",
    "print('number of dimensions = ', x.ndim)\n",
    "print('shape = ', x.shape)\n",
    "print('size = ', x.size)\n",
    "print(x.data)"
   ]
  },
  {
   "cell_type": "code",
   "execution_count": 39,
   "id": "11e82a8c",
   "metadata": {},
   "outputs": [
    {
     "name": "stdout",
     "output_type": "stream",
     "text": [
      "number of dimensions =  4\n",
      "shape =  (2, 2, 3, 1)\n"
     ]
    },
    {
     "data": {
      "text/plain": [
       "array([[[[1.1],\n",
       "         [2.2],\n",
       "         [3.3]],\n",
       "\n",
       "        [[3.3],\n",
       "         [4.4],\n",
       "         [3.3]]],\n",
       "\n",
       "\n",
       "       [[[5.5],\n",
       "         [6.6],\n",
       "         [3.3]],\n",
       "\n",
       "        [[7.7],\n",
       "         [8.8],\n",
       "         [3.3]]]])"
      ]
     },
     "execution_count": 39,
     "metadata": {},
     "output_type": "execute_result"
    }
   ],
   "source": [
    "#Q5: Change the array dimention from 3-D to 4-D\n",
    "y=np.reshape(x,x.shape+(1,))\n",
    "y\n",
    "#Print the new array's dimention and shape\n",
    "print('number of dimensions = ', y.ndim)\n",
    "print('shape = ', y.shape)\n",
    "y"
   ]
  },
  {
   "cell_type": "code",
   "execution_count": 37,
   "id": "01678fc0",
   "metadata": {},
   "outputs": [
    {
     "data": {
      "text/plain": [
       "array([[[[1],\n",
       "         [2],\n",
       "         [3]],\n",
       "\n",
       "        [[3],\n",
       "         [4],\n",
       "         [3]]],\n",
       "\n",
       "\n",
       "       [[[5],\n",
       "         [6],\n",
       "         [3]],\n",
       "\n",
       "        [[7],\n",
       "         [8],\n",
       "         [3]]]])"
      ]
     },
     "execution_count": 37,
     "metadata": {},
     "output_type": "execute_result"
    }
   ],
   "source": [
    "#Q6: Change the array's elements datatype to integer\n",
    "y_int=y.astype(int)\n",
    "y_int"
   ]
  },
  {
   "cell_type": "code",
   "execution_count": 40,
   "id": "bcba8e96",
   "metadata": {},
   "outputs": [
    {
     "name": "stdout",
     "output_type": "stream",
     "text": [
      "1\n",
      "2\n",
      "3\n",
      "3\n",
      "4\n",
      "3\n",
      "5\n",
      "6\n",
      "3\n",
      "7\n",
      "8\n",
      "3\n"
     ]
    }
   ],
   "source": [
    "#Q7: Print all array's elements using for loop\n",
    "for x in np.nditer(y_int):\n",
    "      print(x)"
   ]
  },
  {
   "cell_type": "code",
   "execution_count": 76,
   "id": "c05ad49a",
   "metadata": {},
   "outputs": [
    {
     "name": "stdout",
     "output_type": "stream",
     "text": [
      "[[[8]]]\n"
     ]
    }
   ],
   "source": [
    "#Q8: Print number 8 using array slicing\n",
    "print(y_int[1,-1:2,1:-1])"
   ]
  },
  {
   "cell_type": "code",
   "execution_count": 79,
   "id": "c06f2b67",
   "metadata": {},
   "outputs": [
    {
     "name": "stdout",
     "output_type": "stream",
     "text": [
      "[[[6]]]\n",
      "[[[5]]]\n"
     ]
    }
   ],
   "source": [
    "#Q9: Print number 5 and number 6 using array slicing\n",
    "print(y_int[1,0:1,1:-1])\n",
    "print(y_int[1,0:1,0:-2])"
   ]
  },
  {
   "cell_type": "code",
   "execution_count": 62,
   "id": "a9c13942",
   "metadata": {},
   "outputs": [
    {
     "name": "stdout",
     "output_type": "stream",
     "text": [
      "[8]\n"
     ]
    }
   ],
   "source": [
    "#Q10: Search for number 8 using where()\n",
    "#Note: use the same array from Q6.\n",
    "\n",
    "#Note: where() is only used with small data.\n",
    "\n",
    "#the output represents the path of the index that leads to number 8\n",
    "s = np.where(y_int>7)\n",
    "print(y_int[s])"
   ]
  },
  {
   "cell_type": "code",
   "execution_count": 52,
   "id": "0ef4458d",
   "metadata": {},
   "outputs": [
    {
     "data": {
      "text/plain": [
       "array([[[1, 2],\n",
       "        [3, 3],\n",
       "        [4, 3]],\n",
       "\n",
       "       [[5, 6],\n",
       "        [3, 7],\n",
       "        [8, 3]]])"
      ]
     },
     "execution_count": 52,
     "metadata": {},
     "output_type": "execute_result"
    }
   ],
   "source": [
    "#Q11: Reshape the array as the following\n",
    "n=y_int.reshape(2, 3,2 )\n",
    "n"
   ]
  },
  {
   "cell_type": "code",
   "execution_count": 53,
   "id": "8e0cd5d7",
   "metadata": {},
   "outputs": [],
   "source": [
    "#Q12: Join the given arrays below\n",
    "arr1 = np.array([['A', 'B'], ['E', 'F']])\n",
    "arr2 = np.array([['C', 'D'], ['G', 'H']])\n"
   ]
  },
  {
   "cell_type": "code",
   "execution_count": 58,
   "id": "29d2f7f8",
   "metadata": {},
   "outputs": [
    {
     "data": {
      "text/plain": [
       "array([['A', 'B'],\n",
       "       ['E', 'F'],\n",
       "       ['C', 'D'],\n",
       "       ['G', 'H']], dtype='<U1')"
      ]
     },
     "execution_count": 58,
     "metadata": {},
     "output_type": "execute_result"
    }
   ],
   "source": [
    "#Q12.1: Join the arrays without specifying the axis\n",
    "m=np.row_stack((arr1,arr2))\n",
    "m"
   ]
  },
  {
   "cell_type": "code",
   "execution_count": 57,
   "id": "86fcbe14",
   "metadata": {},
   "outputs": [
    {
     "data": {
      "text/plain": [
       "array([['A', 'B', 'C', 'D'],\n",
       "       ['E', 'F', 'G', 'H']], dtype='<U1')"
      ]
     },
     "execution_count": 57,
     "metadata": {},
     "output_type": "execute_result"
    }
   ],
   "source": [
    "#Q12.2: Join the arrays along rows with axis = 1\n",
    "g = np.concatenate((arr1, arr2), axis=1)\n",
    "g"
   ]
  },
  {
   "cell_type": "code",
   "execution_count": 59,
   "id": "92a43dd4",
   "metadata": {},
   "outputs": [
    {
     "data": {
      "text/plain": [
       "[array([['A'],\n",
       "        ['E'],\n",
       "        ['C'],\n",
       "        ['G']], dtype='<U1'),\n",
       " array([['B'],\n",
       "        ['F'],\n",
       "        ['D'],\n",
       "        ['H']], dtype='<U1'),\n",
       " array([], shape=(4, 0), dtype='<U1')]"
      ]
     },
     "execution_count": 59,
     "metadata": {},
     "output_type": "execute_result"
    }
   ],
   "source": [
    "#Q13: Split the array into two arrays with axis = 1, each array should contain four arrays.\n",
    "u = np.array_split(m, 3, axis=1)\n",
    "u"
   ]
  },
  {
   "cell_type": "code",
   "execution_count": null,
   "id": "c20c15e0",
   "metadata": {},
   "outputs": [],
   "source": []
  }
 ],
 "metadata": {
  "kernelspec": {
   "display_name": "Python 3 (ipykernel)",
   "language": "python",
   "name": "python3"
  },
  "language_info": {
   "codemirror_mode": {
    "name": "ipython",
    "version": 3
   },
   "file_extension": ".py",
   "mimetype": "text/x-python",
   "name": "python",
   "nbconvert_exporter": "python",
   "pygments_lexer": "ipython3",
   "version": "3.9.12"
  }
 },
 "nbformat": 4,
 "nbformat_minor": 5
}
